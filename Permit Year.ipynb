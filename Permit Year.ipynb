{
 "cells": [
  {
   "cell_type": "code",
   "execution_count": 1,
   "metadata": {},
   "outputs": [],
   "source": [
    "import findspark\n",
    "findspark.init('/home/ubuntu/spark-2.1.1-bin-hadoop2.7')\n",
    "import pyspark\n",
    "from pyspark.sql import SparkSession\n",
    "spark = SparkSession.builder.appName('permityear').getOrCreate()\n",
    "import pandas as pd\n",
    "import matplotlib.pyplot as plt\n",
    "import numpy as np"
   ]
  },
  {
   "cell_type": "code",
   "execution_count": 9,
   "metadata": {},
   "outputs": [
    {
     "name": "stdout",
     "output_type": "stream",
     "text": [
      "+--------------------+-------+------+-------+-------------+---------------+--------------------------------------+\n",
      "|              Region|  Total|1 Unit|2 Units|3 and 4 Units|5 Units or More|Num of Structures With 5 Units or More|\n",
      "+--------------------+-------+------+-------+-------------+---------------+--------------------------------------+\n",
      "|                null|   null|  null|   null|         null|           null|                                  null|\n",
      "|United States    ...|1451579|977863|  27104|        19061|         427551|                                 15883|\n",
      "|Northeast Region ...| 134022| 57971|   4340|         3152|          68559|                                  3069|\n",
      "|New England Divis...|  34683| 19125|   1218|          652|          13688|                                   771|\n",
      "|Connecticut      ...|   5767|  2938|    136|           39|           2654|                                   124|\n",
      "|Maine            ...|   5628|  4584|    222|           81|            741|                                    43|\n",
      "|Massachusetts    ...|  15808|  6443|    526|          344|           8495|                                   498|\n",
      "|New Hampshire    ...|   3951|  2917|    128|           30|            876|                                    38|\n",
      "|Rhode Island     ...|   1329|   958|    162|           94|            115|                                    17|\n",
      "|Vermont          ...|   2200|  1285|     44|           64|            807|                                    51|\n",
      "|Middle Atlantic D...|  99339| 38846|   3122|         2500|          54871|                                  2298|\n",
      "|New Jersey       ...|  34968| 12291|   1198|          620|          20859|                                  1021|\n",
      "|New York         ...|  38113| 10123|   1054|          478|          26458|                                   929|\n",
      "|Pennsylvania     ...|  26258| 16432|    870|         1402|           7554|                                   348|\n",
      "|Midwest Region   ...| 198672|129775|   4992|         2540|          61365|                                  2462|\n",
      "|East North Centra...| 110170| 74461|   2856|         1563|          31290|                                  1509|\n",
      "|Illinois         ...|  17831|  9719|    392|          501|           7219|                                   267|\n",
      "|Indiana          ...|  23963| 18531|    614|          170|           4648|                                   206|\n",
      "|Michigan         ...|  19642| 14959|    350|          183|           4150|                                   306|\n",
      "|Ohio             ...|  29127| 18743|    538|          605|           9241|                                   432|\n",
      "+--------------------+-------+------+-------+-------------+---------------+--------------------------------------+\n",
      "only showing top 20 rows\n",
      "\n"
     ]
    }
   ],
   "source": [
    "py = spark.read.csv('Data/stateannualp_202099.csv', header=True, inferSchema=True)\n",
    "py.show()\n"
   ]
  },
  {
   "cell_type": "code",
   "execution_count": 12,
   "metadata": {},
   "outputs": [
    {
     "name": "stdout",
     "output_type": "stream",
     "text": [
      "(66, 7)\n"
     ]
    }
   ],
   "source": [
    "print((py.count(), len(py.columns)))"
   ]
  },
  {
   "cell_type": "code",
   "execution_count": 13,
   "metadata": {},
   "outputs": [
    {
     "name": "stdout",
     "output_type": "stream",
     "text": [
      "root\n",
      " |-- Region: string (nullable = true)\n",
      " |-- Total: integer (nullable = true)\n",
      " |-- 1 Unit: integer (nullable = true)\n",
      " |-- 2 Units: integer (nullable = true)\n",
      " |-- 3 and 4 Units: integer (nullable = true)\n",
      " |-- 5 Units or More: integer (nullable = true)\n",
      " |-- Num of Structures With 5 Units or More: integer (nullable = true)\n",
      "\n"
     ]
    }
   ],
   "source": [
    "py.printSchema()"
   ]
  },
  {
   "cell_type": "code",
   "execution_count": null,
   "metadata": {},
   "outputs": [],
   "source": []
  }
 ],
 "metadata": {
  "kernelspec": {
   "display_name": "Python 3",
   "language": "python",
   "name": "python3"
  },
  "language_info": {
   "codemirror_mode": {
    "name": "ipython",
    "version": 3
   },
   "file_extension": ".py",
   "mimetype": "text/x-python",
   "name": "python",
   "nbconvert_exporter": "python",
   "pygments_lexer": "ipython3",
   "version": "3.5.2"
  }
 },
 "nbformat": 4,
 "nbformat_minor": 2
}
