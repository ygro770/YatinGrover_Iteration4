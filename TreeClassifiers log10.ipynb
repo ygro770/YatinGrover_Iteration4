{
 "cells": [
  {
   "cell_type": "code",
   "execution_count": 28,
   "metadata": {},
   "outputs": [],
   "source": [
    "import findspark\n",
    "findspark.init('/home/ubuntu/spark-2.1.1-bin-hadoop2.7')\n",
    "import pyspark\n",
    "from pyspark.sql import SparkSession\n",
    "spark = SparkSession.builder.appName('tree_methods_adv').getOrCreate()\n",
    "from pyspark.ml.regression import RandomForestRegressor\n",
    "from pyspark.ml import Pipeline\n",
    "from pyspark.ml.evaluation import RegressionEvaluator\n",
    "from pyspark.ml.linalg import Vectors\n",
    "from pyspark.ml.feature import VectorAssembler\n",
    "from pyspark.ml.feature import VectorIndexer\n",
    "from pyspark.ml.tuning import ParamGridBuilder\n",
    "import numpy as np\n",
    "from pyspark.ml.tuning import CrossValidator\n",
    "import matplotlib.pyplot as plt\n"
   ]
  },
  {
   "cell_type": "code",
   "execution_count": 4,
   "metadata": {},
   "outputs": [
    {
     "name": "stdout",
     "output_type": "stream",
     "text": [
      "+----+-------------------+--------------------+---------------------+--------------------------+-----------------------------+---------------+----------------+-------------+--------------+-----------+------------+----------+-----------+----------------------------------+-----------------------------------------------------+\n",
      "|Year|United States Total|United States 1 Unit|United States 2 Units|United States 3 to 4 units|United States 5 Units or More|Northeast Total|Northeast 1 Unit|Midwest Total|Midwest 1 Unit|South Total|South 1 Unit|West Total|West 1 Unit|HONEY - PRODUCTION, MEASURED IN LB|HONEY, BEE COLONIES - INVENTORY, MEASURED IN COLONIES|\n",
      "+----+-------------------+--------------------+---------------------+--------------------------+-----------------------------+---------------+----------------+-------------+--------------+-----------+------------+----------+-----------+----------------------------------+-----------------------------------------------------+\n",
      "|1990|             1110.8|               793.9|                 26.7|                      27.6|                        262.6|          125.8|            96.5|        233.8|         165.7|      426.2|       318.1|     324.9|      213.7|                 8.298003298071777|                                    6.507855871695831|\n",
      "|1991|              948.8|               753.5|                 22.0|                      21.1|                        152.1|          109.8|            91.8|        215.4|         168.1|      375.7|       308.4|     247.9|      185.2|                 8.344441399241624|                                    6.506640305566503|\n",
      "|1992|             1094.9|               910.7|                 23.3|                      22.5|                        138.4|          124.8|           108.5|        259.0|         204.4|      442.5|       382.2|     268.6|      215.6|                 8.345683410316864|                                    6.483587296968894|\n",
      "|1993|             1199.1|               986.5|                 26.7|                      25.6|                        160.2|          133.5|           113.7|        276.6|         218.4|      500.7|       419.5|     288.2|      235.0|                 8.362979818962618|                                    6.458637849025649|\n",
      "|1994|             1371.6|              1068.5|                 31.4|                      30.8|                        241.0|          138.5|           119.1|        305.2|         233.6|      585.5|       453.0|     342.4|      262.8|                 8.338570032823604|                                    6.444513206334043|\n",
      "|1995|             1332.5|               997.3|                 32.2|                      31.5|                        271.5|          124.2|           104.5|        296.6|         220.5|      583.2|       430.3|     328.5|      241.9|                 8.324621936747661|                                    6.424064525417488|\n",
      "|1996|             1425.6|              1069.5|                 33.6|                      32.2|                        290.3|          136.9|           108.8|        317.8|         236.6|      623.4|       468.5|     347.4|      255.6|                  8.30009308116713|                                    6.411788004543869|\n",
      "|1997|             1441.1|              1062.4|                 34.9|                      33.6|                        310.3|          141.9|           111.2|        299.8|         220.0|      635.9|       464.2|     363.5|      267.1|                 8.293223292933632|                                    6.420120848085703|\n",
      "|1998|             1612.3|              1187.6|                 33.2|                      36.0|                        355.5|          159.4|           124.1|        327.2|         247.8|      724.5|       521.9|     401.2|      293.8|                 8.343461769464422|                                    6.421110129793434|\n",
      "|1999|             1663.5|              1246.7|                 32.5|                      33.3|                        351.1|          164.9|           127.1|        345.4|         262.1|      748.9|       550.4|     404.3|      307.1|                 8.307641491507416|                                    6.423573519732735|\n",
      "|2000|             1592.3|              1198.1|                 30.6|                      34.3|                        329.3|          165.1|           122.3|        323.8|         245.4|      701.9|       529.7|     401.5|      300.7|                 8.342986896987583|                                    6.418632687354066|\n",
      "|2001|             1636.7|              1235.6|                 31.8|                      34.2|                        335.2|          159.8|           117.7|        333.6|         252.5|      730.3|       556.9|     413.0|      308.5|                 8.269632008640352|                                   6.4065401804339555|\n",
      "|2002|             1747.7|              1332.6|                 37.2|                      36.5|                        341.4|          173.7|           126.6|        352.4|         263.4|      790.7|       606.5|     430.9|      336.2|                 8.234815821607878|                                    6.410608542568368|\n",
      "|2003|             1889.2|              1460.9|                 40.9|                      41.6|                        345.8|          182.4|           124.4|        371.0|         287.3|      849.3|       670.1|     486.5|      379.0|                 8.259412287678185|                                    6.414806279501013|\n",
      "|2004|             2070.1|              1613.4|                 43.0|                      47.4|                        366.2|          197.0|           131.8|        370.5|         295.5|      960.8|       756.1|     541.9|      430.0|                 8.263621867991414|                                    6.407220892927397|\n",
      "|2005|             2155.3|              1682.0|                 39.3|                      44.7|                        389.3|          203.8|           126.6|        353.9|         278.7|     1039.0|       826.8|     558.6|      450.0|                 8.242079061127843|                                    6.381836799998343|\n",
      "|2006|             1838.9|              1378.2|                 35.3|                      41.3|                        384.1|          174.6|           103.4|        279.4|         209.3|      929.7|       726.2|     455.2|      339.3|                 8.190079453941514|                                    6.379124146070392|\n",
      "|2007|             1398.4|               979.9|                 28.1|                      31.5|                        359.0|          150.6|            83.7|        211.7|         153.8|      692.2|       507.5|     343.9|      234.9|                 8.171261202362293|                                    6.387923466973437|\n",
      "|2008|              905.4|               575.6|                 16.8|                      17.6|                        295.4|          119.0|            58.0|        137.7|          93.2|      451.9|       304.3|     196.7|      120.0|                 8.214284731369967|                                    6.369586890736344|\n",
      "|2009|              583.0|               441.1|                 10.7|                      10.0|                        121.1|           68.5|            45.8|        100.3|          74.9|      297.4|       231.8|     116.7|       88.7|                  8.16558853800671|                                    6.397592434038117|\n",
      "+----+-------------------+--------------------+---------------------+--------------------------+-----------------------------+---------------+----------------+-------------+--------------+-----------+------------+----------+-----------+----------------------------------+-----------------------------------------------------+\n",
      "only showing top 20 rows\n",
      "\n"
     ]
    }
   ],
   "source": [
    "data = spark.read.csv(\"Data/finalmergedlog10.csv\",inferSchema=True,header=True)\n",
    "data.show()"
   ]
  },
  {
   "cell_type": "code",
   "execution_count": 5,
   "metadata": {},
   "outputs": [
    {
     "name": "stdout",
     "output_type": "stream",
     "text": [
      "root\n",
      " |-- Year: integer (nullable = true)\n",
      " |-- United States Total: double (nullable = true)\n",
      " |-- United States 1 Unit: double (nullable = true)\n",
      " |-- United States 2 Units: double (nullable = true)\n",
      " |-- United States 3 to 4 units: double (nullable = true)\n",
      " |-- United States 5 Units or More: double (nullable = true)\n",
      " |-- Northeast Total: double (nullable = true)\n",
      " |-- Northeast 1 Unit: double (nullable = true)\n",
      " |-- Midwest Total: double (nullable = true)\n",
      " |-- Midwest 1 Unit: double (nullable = true)\n",
      " |-- South Total: double (nullable = true)\n",
      " |-- South 1 Unit: double (nullable = true)\n",
      " |-- West Total: double (nullable = true)\n",
      " |-- West 1 Unit: double (nullable = true)\n",
      " |-- HONEY - PRODUCTION, MEASURED IN LB: double (nullable = true)\n",
      " |-- HONEY, BEE COLONIES - INVENTORY, MEASURED IN COLONIES: double (nullable = true)\n",
      "\n"
     ]
    }
   ],
   "source": [
    "data.printSchema()"
   ]
  },
  {
   "cell_type": "code",
   "execution_count": 128,
   "metadata": {},
   "outputs": [],
   "source": [
    "#assembler = VectorAssembler(\n",
    " #   inputCols=[\"United States Total\", \"United States 1 Unit\",\"United States 2 Units\", \"United States 3 to 4 units\",\n",
    "  #            \"United States 5 Units or More\", \"Northeast Total\", \"Northeast 1 Unit\", \"Midwest Total\", \"Midwest 1 Unit\",\n",
    "   #           \"South Total\", \"South 1 Unit\", \"West Total\", \"West 1 Unit\"],\n",
    "    #outputCol=\"features\")"
   ]
  },
  {
   "cell_type": "code",
   "execution_count": 6,
   "metadata": {},
   "outputs": [],
   "source": [
    "feature_list = []\n",
    "for col in data.columns:\n",
    "    if col == 'HONEY - PRODUCTION, MEASURED IN LB':\n",
    "        continue\n",
    "    else:\n",
    "        feature_list.append(col)\n",
    "assembler = VectorAssembler(inputCols=feature_list, outputCol=\"features\")"
   ]
  },
  {
   "cell_type": "code",
   "execution_count": 156,
   "metadata": {},
   "outputs": [],
   "source": [
    "#output = assembler.transform(data)"
   ]
  },
  {
   "cell_type": "code",
   "execution_count": 130,
   "metadata": {},
   "outputs": [
    {
     "name": "stdout",
     "output_type": "stream",
     "text": [
      "root\n",
      " |-- Year: integer (nullable = true)\n",
      " |-- United States Total: double (nullable = true)\n",
      " |-- United States 1 Unit: double (nullable = true)\n",
      " |-- United States 2 Units: double (nullable = true)\n",
      " |-- United States 3 to 4 units: double (nullable = true)\n",
      " |-- United States 5 Units or More: double (nullable = true)\n",
      " |-- Northeast Total: double (nullable = true)\n",
      " |-- Northeast 1 Unit: double (nullable = true)\n",
      " |-- Midwest Total: double (nullable = true)\n",
      " |-- Midwest 1 Unit: double (nullable = true)\n",
      " |-- South Total: double (nullable = true)\n",
      " |-- South 1 Unit: double (nullable = true)\n",
      " |-- West Total: double (nullable = true)\n",
      " |-- West 1 Unit: double (nullable = true)\n",
      " |-- HONEY - PRODUCTION, MEASURED IN LB: double (nullable = true)\n",
      " |-- HONEY, BEE COLONIES - INVENTORY, MEASURED IN COLONIES: double (nullable = true)\n",
      " |-- features: vector (nullable = true)\n",
      "\n"
     ]
    }
   ],
   "source": [
    "#output.printSchema()\n"
   ]
  },
  {
   "cell_type": "code",
   "execution_count": 160,
   "metadata": {},
   "outputs": [
    {
     "name": "stdout",
     "output_type": "stream",
     "text": [
      "+--------------------+----------------------------------+\n",
      "|            features|HONEY - PRODUCTION, MEASURED IN LB|\n",
      "+--------------------+----------------------------------+\n",
      "|[1990.0,1110.8,79...|                 8.298003298071777|\n",
      "|[1991.0,948.8,753...|                 8.344441399241624|\n",
      "|[1992.0,1094.9,91...|                 8.345683410316864|\n",
      "|[1993.0,1199.1,98...|                 8.362979818962618|\n",
      "|[1994.0,1371.6,10...|                 8.338570032823604|\n",
      "|[1995.0,1332.5,99...|                 8.324621936747661|\n",
      "|[1996.0,1425.6,10...|                  8.30009308116713|\n",
      "|[1997.0,1441.1,10...|                 8.293223292933632|\n",
      "|[1998.0,1612.3,11...|                 8.343461769464422|\n",
      "|[1999.0,1663.5,12...|                 8.307641491507416|\n",
      "|[2000.0,1592.3,11...|                 8.342986896987583|\n",
      "|[2001.0,1636.7,12...|                 8.269632008640352|\n",
      "|[2002.0,1747.7,13...|                 8.234815821607878|\n",
      "|[2003.0,1889.2,14...|                 8.259412287678185|\n",
      "|[2004.0,2070.1,16...|                 8.263621867991414|\n",
      "|[2005.0,2155.3,16...|                 8.242079061127843|\n",
      "|[2006.0,1838.9,13...|                 8.190079453941514|\n",
      "|[2007.0,1398.4,97...|                 8.171261202362293|\n",
      "|[2008.0,905.4,575...|                 8.214284731369967|\n",
      "|[2009.0,583.0,441...|                  8.16558853800671|\n",
      "+--------------------+----------------------------------+\n",
      "only showing top 20 rows\n",
      "\n"
     ]
    }
   ],
   "source": [
    "#final_data = output.select(\"features\",\"HONEY - PRODUCTION, MEASURED IN LB\")\n",
    "#final_data.show()"
   ]
  },
  {
   "cell_type": "code",
   "execution_count": 7,
   "metadata": {},
   "outputs": [],
   "source": [
    "rf = RandomForestRegressor(labelCol=\"HONEY - PRODUCTION, MEASURED IN LB\", featuresCol=\"features\")"
   ]
  },
  {
   "cell_type": "code",
   "execution_count": 8,
   "metadata": {},
   "outputs": [],
   "source": [
    "pipeline = Pipeline(stages=[assembler, rf])"
   ]
  },
  {
   "cell_type": "code",
   "execution_count": 9,
   "metadata": {},
   "outputs": [],
   "source": [
    "paramGrid = ParamGridBuilder() \\\n",
    "    .addGrid(rf.numTrees, [int(x) for x in np.linspace(start = 10, stop = 50, num = 3)]) \\\n",
    "    .addGrid(rf.maxDepth, [int(x) for x in np.linspace(start = 5, stop = 25, num = 3)]) \\\n",
    "    .build()"
   ]
  },
  {
   "cell_type": "code",
   "execution_count": 17,
   "metadata": {},
   "outputs": [],
   "source": [
    "#crossval = CrossValidator(estimator=pipeline,\n",
    " #                         estimatorParamMaps=paramGrid,\n",
    "  #                        evaluator=RegressionEvaluator(),\n",
    "   #                       numFolds=2)"
   ]
  },
  {
   "cell_type": "code",
   "execution_count": 10,
   "metadata": {},
   "outputs": [],
   "source": [
    "#train_data,test_data = final_data.randomSplit([0.7,0.3])\n",
    "(trainingData, testData) = data.randomSplit([0.7, 0.3])"
   ]
  },
  {
   "cell_type": "code",
   "execution_count": null,
   "metadata": {},
   "outputs": [],
   "source": [
    "#trainingData.describe().show()\n",
    "\n",
    "#testData.describe().show()"
   ]
  },
  {
   "cell_type": "code",
   "execution_count": 22,
   "metadata": {},
   "outputs": [],
   "source": [
    "#cvModel = crossval.fit(trainingData)"
   ]
  },
  {
   "cell_type": "code",
   "execution_count": 11,
   "metadata": {},
   "outputs": [],
   "source": [
    "model = pipeline.fit(trainingData)"
   ]
  },
  {
   "cell_type": "code",
   "execution_count": 12,
   "metadata": {},
   "outputs": [],
   "source": [
    "predictions = model.transform(testData)"
   ]
  },
  {
   "cell_type": "code",
   "execution_count": 13,
   "metadata": {},
   "outputs": [
    {
     "name": "stdout",
     "output_type": "stream",
     "text": [
      "+-----------------+----------------------------------+--------------------+\n",
      "|       prediction|HONEY - PRODUCTION, MEASURED IN LB|            features|\n",
      "+-----------------+----------------------------------+--------------------+\n",
      "| 8.30490845736727|                 8.298003298071777|[1990.0,1110.8,79...|\n",
      "|8.304852084164995|                 8.344441399241624|[1991.0,948.8,753...|\n",
      "|8.313961102218503|                 8.338570032823604|[1994.0,1371.6,10...|\n",
      "|8.283202854286886|                  8.30009308116713|[1996.0,1425.6,10...|\n",
      "|8.283202854286886|                 8.293223292933632|[1997.0,1441.1,10...|\n",
      "|8.285103328430239|                 8.343461769464422|[1998.0,1612.3,11...|\n",
      "|8.263490887924917|                 8.342986896987583|[2000.0,1592.3,11...|\n",
      "|8.235235046732054|                 8.259412287678185|[2003.0,1889.2,14...|\n",
      "|8.231593763237075|                 8.263621867991414|[2004.0,2070.1,16...|\n",
      "|8.221483488643555|                 8.242079061127843|[2005.0,2155.3,16...|\n",
      "+-----------------+----------------------------------+--------------------+\n",
      "only showing top 10 rows\n",
      "\n"
     ]
    }
   ],
   "source": [
    "predictions.select(\"prediction\", \"HONEY - PRODUCTION, MEASURED IN LB\", \"features\").show(10)"
   ]
  },
  {
   "cell_type": "code",
   "execution_count": 14,
   "metadata": {},
   "outputs": [
    {
     "name": "stdout",
     "output_type": "stream",
     "text": [
      "Root Mean Squared Error (RMSE) on test data = 0.0376072\n"
     ]
    }
   ],
   "source": [
    "evaluator = RegressionEvaluator(\n",
    "    labelCol=\"HONEY - PRODUCTION, MEASURED IN LB\", predictionCol=\"prediction\", metricName=\"rmse\")\n",
    "rmse = evaluator.evaluate(predictions)\n",
    "print(\"Root Mean Squared Error (RMSE) on test data = %g\" % rmse)"
   ]
  },
  {
   "cell_type": "code",
   "execution_count": 15,
   "metadata": {},
   "outputs": [
    {
     "name": "stdout",
     "output_type": "stream",
     "text": [
      "RandomForestRegressionModel (uid=rfr_623f9e453b81) with 20 trees\n"
     ]
    }
   ],
   "source": [
    "rfModel = model.stages[1]\n",
    "print(rfModel)"
   ]
  },
  {
   "cell_type": "code",
   "execution_count": 30,
   "metadata": {},
   "outputs": [
    {
     "name": "stdout",
     "output_type": "stream",
     "text": [
      "    Year  United States Total  United States 1 Unit  United States 2 Units  \\\n",
      "0   1990               1110.8                 793.9                   26.7   \n",
      "1   1991                948.8                 753.5                   22.0   \n",
      "2   1992               1094.9                 910.7                   23.3   \n",
      "3   1993               1199.1                 986.5                   26.7   \n",
      "4   1994               1371.6                1068.5                   31.4   \n",
      "5   1995               1332.5                 997.3                   32.2   \n",
      "6   1996               1425.6                1069.5                   33.6   \n",
      "7   1997               1441.1                1062.4                   34.9   \n",
      "8   1998               1612.3                1187.6                   33.2   \n",
      "9   1999               1663.5                1246.7                   32.5   \n",
      "10  2000               1592.3                1198.1                   30.6   \n",
      "11  2001               1636.7                1235.6                   31.8   \n",
      "12  2002               1747.7                1332.6                   37.2   \n",
      "13  2003               1889.2                1460.9                   40.9   \n",
      "14  2004               2070.1                1613.4                   43.0   \n",
      "15  2005               2155.3                1682.0                   39.3   \n",
      "16  2006               1838.9                1378.2                   35.3   \n",
      "17  2007               1398.4                 979.9                   28.1   \n",
      "18  2008                905.4                 575.6                   16.8   \n",
      "19  2009                583.0                 441.1                   10.7   \n",
      "20  2010                604.6                 447.3                   10.8   \n",
      "21  2011                624.1                 418.5                   11.1   \n",
      "22  2012                829.7                 518.7                   13.3   \n",
      "23  2013                990.8                 620.8                   15.2   \n",
      "24  2014               1052.1                 640.3                   15.1   \n",
      "25  2015               1182.6                 696.0                   17.0   \n",
      "26  2016               1206.6                 750.8                   18.8   \n",
      "27  2017               1282.0                 820.0                   19.1   \n",
      "28  2018               1328.8                 855.3                   22.2   \n",
      "29  2019               1386.0                 862.1                   23.9   \n",
      "30  2020               1451.6                 977.9                   27.1   \n",
      "\n",
      "    United States 3 to 4 units  United States 5 Units or More  \\\n",
      "0                         27.6                          262.6   \n",
      "1                         21.1                          152.1   \n",
      "2                         22.5                          138.4   \n",
      "3                         25.6                          160.2   \n",
      "4                         30.8                          241.0   \n",
      "5                         31.5                          271.5   \n",
      "6                         32.2                          290.3   \n",
      "7                         33.6                          310.3   \n",
      "8                         36.0                          355.5   \n",
      "9                         33.3                          351.1   \n",
      "10                        34.3                          329.3   \n",
      "11                        34.2                          335.2   \n",
      "12                        36.5                          341.4   \n",
      "13                        41.6                          345.8   \n",
      "14                        47.4                          366.2   \n",
      "15                        44.7                          389.3   \n",
      "16                        41.3                          384.1   \n",
      "17                        31.5                          359.0   \n",
      "18                        17.6                          295.4   \n",
      "19                        10.0                          121.1   \n",
      "20                        11.2                          135.3   \n",
      "21                        10.4                          184.0   \n",
      "22                        12.6                          285.1   \n",
      "23                        13.8                          341.1   \n",
      "24                        14.7                          382.0   \n",
      "25                        15.1                          454.5   \n",
      "26                        16.0                          421.1   \n",
      "27                        18.1                          424.8   \n",
      "28                        17.5                          433.8   \n",
      "29                        18.7                          481.4   \n",
      "30                        19.1                          427.6   \n",
      "\n",
      "    Northeast Total  Northeast 1 Unit  Midwest Total  Midwest 1 Unit  \\\n",
      "0             125.8              96.5          233.8           165.7   \n",
      "1             109.8              91.8          215.4           168.1   \n",
      "2             124.8             108.5          259.0           204.4   \n",
      "3             133.5             113.7          276.6           218.4   \n",
      "4             138.5             119.1          305.2           233.6   \n",
      "5             124.2             104.5          296.6           220.5   \n",
      "6             136.9             108.8          317.8           236.6   \n",
      "7             141.9             111.2          299.8           220.0   \n",
      "8             159.4             124.1          327.2           247.8   \n",
      "9             164.9             127.1          345.4           262.1   \n",
      "10            165.1             122.3          323.8           245.4   \n",
      "11            159.8             117.7          333.6           252.5   \n",
      "12            173.7             126.6          352.4           263.4   \n",
      "13            182.4             124.4          371.0           287.3   \n",
      "14            197.0             131.8          370.5           295.5   \n",
      "15            203.8             126.6          353.9           278.7   \n",
      "16            174.6             103.4          279.4           209.3   \n",
      "17            150.6              83.7          211.7           153.8   \n",
      "18            119.0              58.0          137.7            93.2   \n",
      "19             68.5              45.8          100.3            74.9   \n",
      "20             73.8              49.1          103.5            75.4   \n",
      "21             68.5              39.0          102.7            70.5   \n",
      "22             84.7              44.2          133.0            87.3   \n",
      "23            107.1              52.6          156.8           101.8   \n",
      "24            118.5              54.6          165.2           101.0   \n",
      "25            162.0              52.4          170.6           104.7   \n",
      "26            116.4              54.3          186.1           112.4   \n",
      "27            123.6              54.2          195.1           121.5   \n",
      "28            123.4              53.9          185.5           117.9   \n",
      "29            141.2              52.7          184.8           114.2   \n",
      "30            134.0              58.0          198.7           129.8   \n",
      "\n",
      "    South Total  South 1 Unit  West Total  West 1 Unit  \\\n",
      "0         426.2         318.1       324.9        213.7   \n",
      "1         375.7         308.4       247.9        185.2   \n",
      "2         442.5         382.2       268.6        215.6   \n",
      "3         500.7         419.5       288.2        235.0   \n",
      "4         585.5         453.0       342.4        262.8   \n",
      "5         583.2         430.3       328.5        241.9   \n",
      "6         623.4         468.5       347.4        255.6   \n",
      "7         635.9         464.2       363.5        267.1   \n",
      "8         724.5         521.9       401.2        293.8   \n",
      "9         748.9         550.4       404.3        307.1   \n",
      "10        701.9         529.7       401.5        300.7   \n",
      "11        730.3         556.9       413.0        308.5   \n",
      "12        790.7         606.5       430.9        336.2   \n",
      "13        849.3         670.1       486.5        379.0   \n",
      "14        960.8         756.1       541.9        430.0   \n",
      "15       1039.0         826.8       558.6        450.0   \n",
      "16        929.7         726.2       455.2        339.3   \n",
      "17        692.2         507.5       343.9        234.9   \n",
      "18        451.9         304.3       196.7        120.0   \n",
      "19        297.4         231.8       116.7         88.7   \n",
      "20        299.1         232.3       128.2         90.6   \n",
      "21        320.7         227.1       132.2         81.9   \n",
      "22        427.8         276.0       184.2        111.2   \n",
      "23        493.3         330.0       233.7        136.3   \n",
      "24        524.1         347.7       244.3        137.1   \n",
      "25        572.8         378.2       277.2        160.7   \n",
      "26        594.5         406.0       309.6        178.1   \n",
      "27        626.9         447.6       336.4        196.7   \n",
      "28        677.1         474.9       342.8        208.7   \n",
      "29        710.3         486.2       349.8        209.0   \n",
      "30        761.5         560.4       357.4        229.7   \n",
      "\n",
      "    HONEY - PRODUCTION, MEASURED IN LB  \\\n",
      "0                             8.298003   \n",
      "1                             8.344441   \n",
      "2                             8.345683   \n",
      "3                             8.362980   \n",
      "4                             8.338570   \n",
      "5                             8.324622   \n",
      "6                             8.300093   \n",
      "7                             8.293223   \n",
      "8                             8.343462   \n",
      "9                             8.307641   \n",
      "10                            8.342987   \n",
      "11                            8.269632   \n",
      "12                            8.234816   \n",
      "13                            8.259412   \n",
      "14                            8.263622   \n",
      "15                            8.242079   \n",
      "16                            8.190079   \n",
      "17                            8.171261   \n",
      "18                            8.214285   \n",
      "19                            8.165589   \n",
      "20                            8.246651   \n",
      "21                            8.171308   \n",
      "22                            8.153193   \n",
      "23                            8.174786   \n",
      "24                            8.251176   \n",
      "25                            8.195083   \n",
      "26                            8.210174   \n",
      "27                            8.173259   \n",
      "28                            8.187543   \n",
      "29                            8.195684   \n",
      "30                            8.169069   \n",
      "\n",
      "    HONEY, BEE COLONIES - INVENTORY, MEASURED IN COLONIES  \\\n",
      "0                                            6.507856       \n",
      "1                                            6.506640       \n",
      "2                                            6.483587       \n",
      "3                                            6.458638       \n",
      "4                                            6.444513       \n",
      "5                                            6.424065       \n",
      "6                                            6.411788       \n",
      "7                                            6.420121       \n",
      "8                                            6.421110       \n",
      "9                                            6.423574       \n",
      "10                                           6.418633       \n",
      "11                                           6.406540       \n",
      "12                                           6.410609       \n",
      "13                                           6.414806       \n",
      "14                                           6.407221       \n",
      "15                                           6.381837       \n",
      "16                                           6.379124       \n",
      "17                                           6.387923       \n",
      "18                                           6.369587       \n",
      "19                                           6.397592       \n",
      "20                                           6.430075       \n",
      "21                                           6.396374       \n",
      "22                                           6.404663       \n",
      "23                                           6.421768       \n",
      "24                                           6.437909       \n",
      "25                                           6.425045       \n",
      "26                                           6.444045       \n",
      "27                                           6.428783       \n",
      "28                                           6.451479       \n",
      "29                                           6.449015       \n",
      "30                                           6.432328       \n",
      "\n",
      "                                             features  prediction  \n",
      "0   [1990.0, 1110.8, 793.9, 26.7, 27.6, 262.6, 125...    8.304908  \n",
      "1   [1991.0, 948.8, 753.5, 22.0, 21.1, 152.1, 109....    8.304852  \n",
      "2   [1992.0, 1094.9, 910.7, 23.3, 22.5, 138.4, 124...    8.338394  \n",
      "3   [1993.0, 1199.1, 986.5, 26.7, 25.6, 160.2, 133...    8.346005  \n",
      "4   [1994.0, 1371.6, 1068.5, 31.4, 30.8, 241.0, 13...    8.313961  \n",
      "5   [1995.0, 1332.5, 997.3, 32.2, 31.5, 271.5, 124...    8.314181  \n",
      "6   [1996.0, 1425.6, 1069.5, 33.6, 32.2, 290.3, 13...    8.283203  \n",
      "7   [1997.0, 1441.1, 1062.4, 34.9, 33.6, 310.3, 14...    8.283203  \n",
      "8   [1998.0, 1612.3, 1187.6, 33.2, 36.0, 355.5, 15...    8.285103  \n",
      "9   [1999.0, 1663.5, 1246.7, 32.5, 33.3, 351.1, 16...    8.288904  \n",
      "10  [2000.0, 1592.3, 1198.1, 30.6, 34.3, 329.3, 16...    8.263491  \n",
      "11  [2001.0, 1636.7, 1235.6, 31.8, 34.2, 335.2, 15...    8.252407  \n",
      "12  [2002.0, 1747.7, 1332.6, 37.2, 36.5, 341.4, 17...    8.232426  \n",
      "13  [2003.0, 1889.2, 1460.9, 40.9, 41.6, 345.8, 18...    8.235235  \n",
      "14  [2004.0, 2070.1, 1613.4, 43.0, 47.4, 366.2, 19...    8.231594  \n",
      "15  [2005.0, 2155.3, 1682.0, 39.3, 44.7, 389.3, 20...    8.221483  \n",
      "16  [2006.0, 1838.9, 1378.2, 35.3, 41.3, 384.1, 17...    8.205274  \n",
      "17  [2007.0, 1398.4, 979.9, 28.1, 31.5, 359.0, 150...    8.217037  \n",
      "18  [2008.0, 905.4, 575.6, 16.8, 17.6, 295.4, 119....    8.209614  \n",
      "19  [2009.0, 583.0, 441.1, 10.7, 10.0, 121.1, 68.5...    8.216625  \n",
      "20  [2010.0, 604.6, 447.3, 10.8, 11.2, 135.3, 73.8...    8.221557  \n",
      "21  [2011.0, 624.1, 418.5, 11.1, 10.4, 184.0, 68.5...    8.186861  \n",
      "22  [2012.0, 829.7, 518.7, 13.3, 12.6, 285.1, 84.7...    8.181472  \n",
      "23  [2013.0, 990.8, 620.8, 15.2, 13.8, 341.1, 107....    8.186518  \n",
      "24  [2014.0, 1052.1, 640.3, 15.1, 14.7, 382.0, 118...    8.235508  \n",
      "25  [2015.0, 1182.6, 696.0, 17.0, 15.1, 454.5, 162...    8.194177  \n",
      "26  [2016.0, 1206.6, 750.8, 18.8, 16.0, 421.1, 116...    8.202567  \n",
      "27  [2017.0, 1282.0, 820.0, 19.1, 18.1, 424.8, 123...    8.178385  \n",
      "28  [2018.0, 1328.8, 855.3, 22.2, 17.5, 433.8, 123...    8.192090  \n",
      "29  [2019.0, 1386.0, 862.1, 23.9, 18.7, 481.4, 141...    8.194197  \n",
      "30  [2020.0, 1451.6, 977.9, 27.1, 19.1, 427.6, 134...    8.193007  \n"
     ]
    }
   ],
   "source": [
    "\n",
    "\n",
    "evaluator = RegressionEvaluator(labelCol=\"HONEY - PRODUCTION, MEASURED IN LB\", predictionCol=\"prediction\", metricName=\"rmse\")\n",
    "rmse = evaluator.evaluate(predictions)\n",
    "\n",
    "rfPred = model.transform(data)\n",
    "rfResult = rfPred.toPandas()\n",
    "\n",
    "print(rfResult)"
   ]
  },
  {
   "cell_type": "code",
   "execution_count": 32,
   "metadata": {},
   "outputs": [
    {
     "data": {
      "text/plain": [
       "<matplotlib.axes._subplots.AxesSubplot at 0x7f8e6adaf438>"
      ]
     },
     "execution_count": 32,
     "metadata": {},
     "output_type": "execute_result"
    },
    {
     "data": {
      "image/png": "[encoded data removed]",
      "text/plain": [
       "<Figure size 432x288 with 1 Axes>"
      ]
     },
     "metadata": {},
     "output_type": "display_data"
    }
   ],
   "source": [
    "import matplotlib.pyplot as plt\n",
    "\n",
    "rfResult.plot.scatter(x='HONEY - PRODUCTION, MEASURED IN LB', y='prediction', style='o')"
   ]
  },
  {
   "cell_type": "code",
   "execution_count": null,
   "metadata": {},
   "outputs": [],
   "source": []
  }
 ],
 "metadata": {
  "kernelspec": {
   "display_name": "Python 3",
   "language": "python",
   "name": "python3"
  },
  "language_info": {
   "codemirror_mode": {
    "name": "ipython",
    "version": 3
   },
   "file_extension": ".py",
   "mimetype": "text/x-python",
   "name": "python",
   "nbconvert_exporter": "python",
   "pygments_lexer": "ipython3",
   "version": "3.5.2"
  }
 },
 "nbformat": 4,
 "nbformat_minor": 2
}
