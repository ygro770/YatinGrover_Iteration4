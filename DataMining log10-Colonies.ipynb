{
 "cells": [
  {
   "cell_type": "code",
   "execution_count": 1,
   "metadata": {},
   "outputs": [],
   "source": [
    "import findspark\n",
    "findspark.init('/home/ubuntu/spark-2.1.1-bin-hadoop2.7')\n",
    "import pyspark\n",
    "from pyspark.sql import SparkSession\n",
    "spark = SparkSession.builder.appName('linear_regression_adv').getOrCreate()\n",
    "\n",
    "# If you're getting an error with numpy, please type 'sudo pip install numpy --user' into the EC2 console.\n",
    "from pyspark.ml.regression import LinearRegression"
   ]
  },
  {
   "cell_type": "code",
   "execution_count": 2,
   "metadata": {},
   "outputs": [
    {
     "name": "stdout",
     "output_type": "stream",
     "text": [
      "+----+-------------------+--------------------+---------------------+--------------------------+-----------------------------+---------------+----------------+-------------+--------------+-----------+------------+----------+-----------+----------------------------------+-----------------------------------------------------+\n",
      "|Year|United States Total|United States 1 Unit|United States 2 Units|United States 3 to 4 units|United States 5 Units or More|Northeast Total|Northeast 1 Unit|Midwest Total|Midwest 1 Unit|South Total|South 1 Unit|West Total|West 1 Unit|HONEY - PRODUCTION, MEASURED IN LB|HONEY, BEE COLONIES - INVENTORY, MEASURED IN COLONIES|\n",
      "+----+-------------------+--------------------+---------------------+--------------------------+-----------------------------+---------------+----------------+-------------+--------------+-----------+------------+----------+-----------+----------------------------------+-----------------------------------------------------+\n",
      "|1990|             1110.8|               793.9|                 26.7|                      27.6|                        262.6|          125.8|            96.5|        233.8|         165.7|      426.2|       318.1|     324.9|      213.7|                 8.298003298071777|                                    6.507855871695831|\n",
      "|1991|              948.8|               753.5|                 22.0|                      21.1|                        152.1|          109.8|            91.8|        215.4|         168.1|      375.7|       308.4|     247.9|      185.2|                 8.344441399241624|                                    6.506640305566503|\n",
      "|1992|             1094.9|               910.7|                 23.3|                      22.5|                        138.4|          124.8|           108.5|        259.0|         204.4|      442.5|       382.2|     268.6|      215.6|                 8.345683410316864|                                    6.483587296968894|\n",
      "|1993|             1199.1|               986.5|                 26.7|                      25.6|                        160.2|          133.5|           113.7|        276.6|         218.4|      500.7|       419.5|     288.2|      235.0|                 8.362979818962618|                                    6.458637849025649|\n",
      "|1994|             1371.6|              1068.5|                 31.4|                      30.8|                        241.0|          138.5|           119.1|        305.2|         233.6|      585.5|       453.0|     342.4|      262.8|                 8.338570032823604|                                    6.444513206334043|\n",
      "|1995|             1332.5|               997.3|                 32.2|                      31.5|                        271.5|          124.2|           104.5|        296.6|         220.5|      583.2|       430.3|     328.5|      241.9|                 8.324621936747661|                                    6.424064525417488|\n",
      "|1996|             1425.6|              1069.5|                 33.6|                      32.2|                        290.3|          136.9|           108.8|        317.8|         236.6|      623.4|       468.5|     347.4|      255.6|                  8.30009308116713|                                    6.411788004543869|\n",
      "|1997|             1441.1|              1062.4|                 34.9|                      33.6|                        310.3|          141.9|           111.2|        299.8|         220.0|      635.9|       464.2|     363.5|      267.1|                 8.293223292933632|                                    6.420120848085703|\n",
      "|1998|             1612.3|              1187.6|                 33.2|                      36.0|                        355.5|          159.4|           124.1|        327.2|         247.8|      724.5|       521.9|     401.2|      293.8|                 8.343461769464422|                                    6.421110129793434|\n",
      "|1999|             1663.5|              1246.7|                 32.5|                      33.3|                        351.1|          164.9|           127.1|        345.4|         262.1|      748.9|       550.4|     404.3|      307.1|                 8.307641491507416|                                    6.423573519732735|\n",
      "|2000|             1592.3|              1198.1|                 30.6|                      34.3|                        329.3|          165.1|           122.3|        323.8|         245.4|      701.9|       529.7|     401.5|      300.7|                 8.342986896987583|                                    6.418632687354066|\n",
      "|2001|             1636.7|              1235.6|                 31.8|                      34.2|                        335.2|          159.8|           117.7|        333.6|         252.5|      730.3|       556.9|     413.0|      308.5|                 8.269632008640352|                                   6.4065401804339555|\n",
      "|2002|             1747.7|              1332.6|                 37.2|                      36.5|                        341.4|          173.7|           126.6|        352.4|         263.4|      790.7|       606.5|     430.9|      336.2|                 8.234815821607878|                                    6.410608542568368|\n",
      "|2003|             1889.2|              1460.9|                 40.9|                      41.6|                        345.8|          182.4|           124.4|        371.0|         287.3|      849.3|       670.1|     486.5|      379.0|                 8.259412287678185|                                    6.414806279501013|\n",
      "|2004|             2070.1|              1613.4|                 43.0|                      47.4|                        366.2|          197.0|           131.8|        370.5|         295.5|      960.8|       756.1|     541.9|      430.0|                 8.263621867991414|                                    6.407220892927397|\n",
      "|2005|             2155.3|              1682.0|                 39.3|                      44.7|                        389.3|          203.8|           126.6|        353.9|         278.7|     1039.0|       826.8|     558.6|      450.0|                 8.242079061127843|                                    6.381836799998343|\n",
      "|2006|             1838.9|              1378.2|                 35.3|                      41.3|                        384.1|          174.6|           103.4|        279.4|         209.3|      929.7|       726.2|     455.2|      339.3|                 8.190079453941514|                                    6.379124146070392|\n",
      "|2007|             1398.4|               979.9|                 28.1|                      31.5|                        359.0|          150.6|            83.7|        211.7|         153.8|      692.2|       507.5|     343.9|      234.9|                 8.171261202362293|                                    6.387923466973437|\n",
      "|2008|              905.4|               575.6|                 16.8|                      17.6|                        295.4|          119.0|            58.0|        137.7|          93.2|      451.9|       304.3|     196.7|      120.0|                 8.214284731369967|                                    6.369586890736344|\n",
      "|2009|              583.0|               441.1|                 10.7|                      10.0|                        121.1|           68.5|            45.8|        100.3|          74.9|      297.4|       231.8|     116.7|       88.7|                  8.16558853800671|                                    6.397592434038117|\n",
      "+----+-------------------+--------------------+---------------------+--------------------------+-----------------------------+---------------+----------------+-------------+--------------+-----------+------------+----------+-----------+----------------------------------+-----------------------------------------------------+\n",
      "only showing top 20 rows\n",
      "\n"
     ]
    }
   ],
   "source": [
    "data = spark.read.csv(\"Data/finalmergedlog10.csv\",inferSchema=True,header=True)\n",
    "data.show()"
   ]
  },
  {
   "cell_type": "code",
   "execution_count": 3,
   "metadata": {},
   "outputs": [
    {
     "name": "stdout",
     "output_type": "stream",
     "text": [
      "root\n",
      " |-- Year: integer (nullable = true)\n",
      " |-- United States Total: double (nullable = true)\n",
      " |-- United States 1 Unit: double (nullable = true)\n",
      " |-- United States 2 Units: double (nullable = true)\n",
      " |-- United States 3 to 4 units: double (nullable = true)\n",
      " |-- United States 5 Units or More: double (nullable = true)\n",
      " |-- Northeast Total: double (nullable = true)\n",
      " |-- Northeast 1 Unit: double (nullable = true)\n",
      " |-- Midwest Total: double (nullable = true)\n",
      " |-- Midwest 1 Unit: double (nullable = true)\n",
      " |-- South Total: double (nullable = true)\n",
      " |-- South 1 Unit: double (nullable = true)\n",
      " |-- West Total: double (nullable = true)\n",
      " |-- West 1 Unit: double (nullable = true)\n",
      " |-- HONEY - PRODUCTION, MEASURED IN LB: double (nullable = true)\n",
      " |-- HONEY, BEE COLONIES - INVENTORY, MEASURED IN COLONIES: double (nullable = true)\n",
      "\n"
     ]
    }
   ],
   "source": [
    "data.printSchema()"
   ]
  },
  {
   "cell_type": "code",
   "execution_count": 4,
   "metadata": {},
   "outputs": [],
   "source": [
    "from pyspark.ml.linalg import Vectors\n",
    "from pyspark.ml.feature import VectorAssembler"
   ]
  },
  {
   "cell_type": "code",
   "execution_count": 5,
   "metadata": {},
   "outputs": [],
   "source": [
    "assembler = VectorAssembler(\n",
    "    inputCols=[\"United States Total\", \"United States 1 Unit\",\"United States 2 Units\", \"United States 3 to 4 units\",\n",
    "              \"United States 5 Units or More\", \"Northeast Total\", \"Northeast 1 Unit\", \"Midwest Total\", \"Midwest 1 Unit\",\n",
    "              \"South Total\", \"South 1 Unit\", \"West Total\", \"West 1 Unit\"],\n",
    "    outputCol=\"features\")"
   ]
  },
  {
   "cell_type": "code",
   "execution_count": 6,
   "metadata": {},
   "outputs": [],
   "source": [
    "output = assembler.transform(data)"
   ]
  },
  {
   "cell_type": "code",
   "execution_count": 7,
   "metadata": {},
   "outputs": [
    {
     "name": "stdout",
     "output_type": "stream",
     "text": [
      "root\n",
      " |-- Year: integer (nullable = true)\n",
      " |-- United States Total: double (nullable = true)\n",
      " |-- United States 1 Unit: double (nullable = true)\n",
      " |-- United States 2 Units: double (nullable = true)\n",
      " |-- United States 3 to 4 units: double (nullable = true)\n",
      " |-- United States 5 Units or More: double (nullable = true)\n",
      " |-- Northeast Total: double (nullable = true)\n",
      " |-- Northeast 1 Unit: double (nullable = true)\n",
      " |-- Midwest Total: double (nullable = true)\n",
      " |-- Midwest 1 Unit: double (nullable = true)\n",
      " |-- South Total: double (nullable = true)\n",
      " |-- South 1 Unit: double (nullable = true)\n",
      " |-- West Total: double (nullable = true)\n",
      " |-- West 1 Unit: double (nullable = true)\n",
      " |-- HONEY - PRODUCTION, MEASURED IN LB: double (nullable = true)\n",
      " |-- HONEY, BEE COLONIES - INVENTORY, MEASURED IN COLONIES: double (nullable = true)\n",
      " |-- features: vector (nullable = true)\n",
      "\n"
     ]
    }
   ],
   "source": [
    "output.printSchema()\n"
   ]
  },
  {
   "cell_type": "code",
   "execution_count": 8,
   "metadata": {},
   "outputs": [
    {
     "name": "stdout",
     "output_type": "stream",
     "text": [
      "+--------------------+-----------------------------------------------------+\n",
      "|            features|HONEY, BEE COLONIES - INVENTORY, MEASURED IN COLONIES|\n",
      "+--------------------+-----------------------------------------------------+\n",
      "|[1110.8,793.9,26....|                                    6.507855871695831|\n",
      "|[948.8,753.5,22.0...|                                    6.506640305566503|\n",
      "|[1094.9,910.7,23....|                                    6.483587296968894|\n",
      "|[1199.1,986.5,26....|                                    6.458637849025649|\n",
      "|[1371.6,1068.5,31...|                                    6.444513206334043|\n",
      "|[1332.5,997.3,32....|                                    6.424064525417488|\n",
      "|[1425.6,1069.5,33...|                                    6.411788004543869|\n",
      "|[1441.1,1062.4,34...|                                    6.420120848085703|\n",
      "|[1612.3,1187.6,33...|                                    6.421110129793434|\n",
      "|[1663.5,1246.7,32...|                                    6.423573519732735|\n",
      "|[1592.3,1198.1,30...|                                    6.418632687354066|\n",
      "|[1636.7,1235.6,31...|                                   6.4065401804339555|\n",
      "|[1747.7,1332.6,37...|                                    6.410608542568368|\n",
      "|[1889.2,1460.9,40...|                                    6.414806279501013|\n",
      "|[2070.1,1613.4,43...|                                    6.407220892927397|\n",
      "|[2155.3,1682.0,39...|                                    6.381836799998343|\n",
      "|[1838.9,1378.2,35...|                                    6.379124146070392|\n",
      "|[1398.4,979.9,28....|                                    6.387923466973437|\n",
      "|[905.4,575.6,16.8...|                                    6.369586890736344|\n",
      "|[583.0,441.1,10.7...|                                    6.397592434038117|\n",
      "+--------------------+-----------------------------------------------------+\n",
      "only showing top 20 rows\n",
      "\n"
     ]
    }
   ],
   "source": [
    "final_data = output.select(\"features\",\"HONEY, BEE COLONIES - INVENTORY, MEASURED IN COLONIES\")\n",
    "final_data.show()"
   ]
  },
  {
   "cell_type": "code",
   "execution_count": 13,
   "metadata": {},
   "outputs": [],
   "source": [
    "train_data,test_data = final_data.randomSplit([0.7,0.3])"
   ]
  },
  {
   "cell_type": "code",
   "execution_count": 14,
   "metadata": {},
   "outputs": [
    {
     "name": "stdout",
     "output_type": "stream",
     "text": [
      "+-------+-----------------------------------------------------+\n",
      "|summary|HONEY, BEE COLONIES - INVENTORY, MEASURED IN COLONIES|\n",
      "+-------+-----------------------------------------------------+\n",
      "|  count|                                                   19|\n",
      "|   mean|                                    6.429455280884437|\n",
      "| stddev|                                  0.03280818594933362|\n",
      "|    min|                                    6.369586890736344|\n",
      "|    max|                                    6.507855871695831|\n",
      "+-------+-----------------------------------------------------+\n",
      "\n",
      "+-------+-----------------------------------------------------+\n",
      "|summary|HONEY, BEE COLONIES - INVENTORY, MEASURED IN COLONIES|\n",
      "+-------+-----------------------------------------------------+\n",
      "|  count|                                                   12|\n",
      "|   mean|                                     6.41979976311421|\n",
      "| stddev|                                  0.03293520044942882|\n",
      "|    min|                                    6.381836799998343|\n",
      "|    max|                                    6.506640305566503|\n",
      "+-------+-----------------------------------------------------+\n",
      "\n"
     ]
    }
   ],
   "source": [
    "train_data.describe().show()\n",
    "\n",
    "test_data.describe().show()"
   ]
  },
  {
   "cell_type": "code",
   "execution_count": 15,
   "metadata": {},
   "outputs": [],
   "source": [
    "lr = LinearRegression(labelCol='HONEY, BEE COLONIES - INVENTORY, MEASURED IN COLONIES')"
   ]
  },
  {
   "cell_type": "code",
   "execution_count": 16,
   "metadata": {},
   "outputs": [],
   "source": [
    "lrModel = lr.fit(train_data)"
   ]
  },
  {
   "cell_type": "code",
   "execution_count": 17,
   "metadata": {},
   "outputs": [
    {
     "name": "stdout",
     "output_type": "stream",
     "text": [
      "Coefficients: [-0.1403076018014581,-0.07608017834858494,0.06997143642916658,0.06689757231906211,0.07076003416553206,0.06956368943251602,0.14734469468612832,0.0682664446255741,0.1487240211795308,0.06874313472612306,0.14753541901984393,0.07158800530285687,0.14497171091584213] Intercept: 6.421053816517499\n"
     ]
    }
   ],
   "source": [
    "print(\"Coefficients: {} Intercept: {}\".format(lrModel.coefficients,lrModel.intercept))"
   ]
  },
  {
   "cell_type": "code",
   "execution_count": 18,
   "metadata": {},
   "outputs": [],
   "source": [
    "test_results = lrModel.evaluate(test_data)"
   ]
  },
  {
   "cell_type": "code",
   "execution_count": 19,
   "metadata": {},
   "outputs": [
    {
     "name": "stdout",
     "output_type": "stream",
     "text": [
      "+--------------------+\n",
      "|           residuals|\n",
      "+--------------------+\n",
      "|-0.00815579156850...|\n",
      "|-0.00731271495716...|\n",
      "|0.030759366958798218|\n",
      "|5.095707087932055E-4|\n",
      "|-0.01301090133440...|\n",
      "|-0.04131417772725854|\n",
      "|0.026340362079839252|\n",
      "|-0.01833266993148...|\n",
      "|-0.00793383005543...|\n",
      "|-0.01862321045561...|\n",
      "|-0.04060006522362958|\n",
      "|-0.02699191617669...|\n",
      "+--------------------+\n",
      "\n",
      "RSME: 0.023733127010518912\n"
     ]
    }
   ],
   "source": [
    "test_results.residuals.show()\n",
    "\n",
    "print(\"RSME: {}\".format(test_results.rootMeanSquaredError))"
   ]
  },
  {
   "cell_type": "code",
   "execution_count": 20,
   "metadata": {},
   "outputs": [
    {
     "name": "stdout",
     "output_type": "stream",
     "text": [
      "R2: 0.43352875956897674\n"
     ]
    }
   ],
   "source": [
    "# We can also get the R2 value. \n",
    "print(\"R2: {}\".format(test_results.r2))"
   ]
  },
  {
   "cell_type": "code",
   "execution_count": 39,
   "metadata": {},
   "outputs": [
    {
     "name": "stdout",
     "output_type": "stream",
     "text": [
      "+-------+-----------------------------------------------------+\n",
      "|summary|HONEY, BEE COLONIES - INVENTORY, MEASURED IN COLONIES|\n",
      "+-------+-----------------------------------------------------+\n",
      "|  count|                                                   31|\n",
      "|   mean|                                    6.425717661102416|\n",
      "| stddev|                                   0.0326560220686697|\n",
      "|    min|                                    6.369586890736344|\n",
      "|    max|                                    6.507855871695831|\n",
      "+-------+-----------------------------------------------------+\n",
      "\n"
     ]
    }
   ],
   "source": [
    "final_data.describe().show()"
   ]
  },
  {
   "cell_type": "code",
   "execution_count": 22,
   "metadata": {},
   "outputs": [
    {
     "name": "stdout",
     "output_type": "stream",
     "text": [
      "                                             features  \\\n",
      "0   [1110.8, 793.9, 26.7, 27.6, 262.6, 125.8, 96.5...   \n",
      "1   [948.8, 753.5, 22.0, 21.1, 152.1, 109.8, 91.8,...   \n",
      "2   [1094.9, 910.7, 23.3, 22.5, 138.4, 124.8, 108....   \n",
      "3   [1199.1, 986.5, 26.7, 25.6, 160.2, 133.5, 113....   \n",
      "4   [1371.6, 1068.5, 31.4, 30.8, 241.0, 138.5, 119...   \n",
      "5   [1332.5, 997.3, 32.2, 31.5, 271.5, 124.2, 104....   \n",
      "6   [1425.6, 1069.5, 33.6, 32.2, 290.3, 136.9, 108...   \n",
      "7   [1441.1, 1062.4, 34.9, 33.6, 310.3, 141.9, 111...   \n",
      "8   [1612.3, 1187.6, 33.2, 36.0, 355.5, 159.4, 124...   \n",
      "9   [1663.5, 1246.7, 32.5, 33.3, 351.1, 164.9, 127...   \n",
      "10  [1592.3, 1198.1, 30.6, 34.3, 329.3, 165.1, 122...   \n",
      "11  [1636.7, 1235.6, 31.8, 34.2, 335.2, 159.8, 117...   \n",
      "12  [1747.7, 1332.6, 37.2, 36.5, 341.4, 173.7, 126...   \n",
      "13  [1889.2, 1460.9, 40.9, 41.6, 345.8, 182.4, 124...   \n",
      "14  [2070.1, 1613.4, 43.0, 47.4, 366.2, 197.0, 131...   \n",
      "15  [2155.3, 1682.0, 39.3, 44.7, 389.3, 203.8, 126...   \n",
      "16  [1838.9, 1378.2, 35.3, 41.3, 384.1, 174.6, 103...   \n",
      "17  [1398.4, 979.9, 28.1, 31.5, 359.0, 150.6, 83.7...   \n",
      "18  [905.4, 575.6, 16.8, 17.6, 295.4, 119.0, 58.0,...   \n",
      "19  [583.0, 441.1, 10.7, 10.0, 121.1, 68.5, 45.8, ...   \n",
      "20  [604.6, 447.3, 10.8, 11.2, 135.3, 73.8, 49.1, ...   \n",
      "21  [624.1, 418.5, 11.1, 10.4, 184.0, 68.5, 39.0, ...   \n",
      "22  [829.7, 518.7, 13.3, 12.6, 285.1, 84.7, 44.2, ...   \n",
      "23  [990.8, 620.8, 15.2, 13.8, 341.1, 107.1, 52.6,...   \n",
      "24  [1052.1, 640.3, 15.1, 14.7, 382.0, 118.5, 54.6...   \n",
      "25  [1182.6, 696.0, 17.0, 15.1, 454.5, 162.0, 52.4...   \n",
      "26  [1206.6, 750.8, 18.8, 16.0, 421.1, 116.4, 54.3...   \n",
      "27  [1282.0, 820.0, 19.1, 18.1, 424.8, 123.6, 54.2...   \n",
      "28  [1328.8, 855.3, 22.2, 17.5, 433.8, 123.4, 53.9...   \n",
      "29  [1386.0, 862.1, 23.9, 18.7, 481.4, 141.2, 52.7...   \n",
      "30  [1451.6, 977.9, 27.1, 19.1, 427.6, 134.0, 58.0...   \n",
      "\n",
      "    HONEY, BEE COLONIES - INVENTORY, MEASURED IN COLONIES  prediction  \n",
      "0                                            6.507856        6.506390  \n",
      "1                                            6.506640        6.475881  \n",
      "2                                            6.483587        6.480721  \n",
      "3                                            6.458638        6.456165  \n",
      "4                                            6.444513        6.447316  \n",
      "5                                            6.424065        6.397724  \n",
      "6                                            6.411788        6.414374  \n",
      "7                                            6.420121        6.428055  \n",
      "8                                            6.421110        6.418299  \n",
      "9                                            6.423574        6.423239  \n",
      "10                                           6.418633        6.437256  \n",
      "11                                           6.406540        6.447140  \n",
      "12                                           6.410609        6.413429  \n",
      "13                                           6.414806        6.412221  \n",
      "14                                           6.407221        6.410622  \n",
      "15                                           6.381837        6.408829  \n",
      "16                                           6.379124        6.376813  \n",
      "17                                           6.387923        6.406256  \n",
      "18                                           6.369587        6.373688  \n",
      "19                                           6.397592        6.405748  \n",
      "20                                           6.430075        6.432553  \n",
      "21                                           6.396374        6.403686  \n",
      "22                                           6.404663        6.395441  \n",
      "23                                           6.421768        6.429031  \n",
      "24                                           6.437909        6.437558  \n",
      "25                                           6.425045        6.424535  \n",
      "26                                           6.444045        6.457056  \n",
      "27                                           6.428783        6.470097  \n",
      "28                                           6.451479        6.459249  \n",
      "29                                           6.449015        6.441100  \n",
      "30                                           6.432328        6.431441  \n"
     ]
    },
    {
     "data": {
      "text/plain": [
       "<matplotlib.axes._subplots.AxesSubplot at 0x7f4742c67c88>"
      ]
     },
     "execution_count": 22,
     "metadata": {},
     "output_type": "execute_result"
    },
    {
     "data": {
      "image/png": "[encoded data removed]",
      "text/plain": [
       "<Figure size 432x288 with 1 Axes>"
      ]
     },
     "metadata": {},
     "output_type": "display_data"
    }
   ],
   "source": [
    "import matplotlib.pyplot as plt\n",
    "\n",
    "\n",
    "rfPred = lrModel.transform(final_data)\n",
    "rfResult = rfPred.toPandas()\n",
    "\n",
    "print(rfResult)\n",
    "\n",
    "rfResult.plot.scatter(x='HONEY, BEE COLONIES - INVENTORY, MEASURED IN COLONIES', y='prediction', style='o')"
   ]
  },
  {
   "cell_type": "code",
   "execution_count": null,
   "metadata": {},
   "outputs": [],
   "source": []
  }
 ],
 "metadata": {
  "kernelspec": {
   "display_name": "Python 3",
   "language": "python",
   "name": "python3"
  },
  "language_info": {
   "codemirror_mode": {
    "name": "ipython",
    "version": 3
   },
   "file_extension": ".py",
   "mimetype": "text/x-python",
   "name": "python",
   "nbconvert_exporter": "python",
   "pygments_lexer": "ipython3",
   "version": "3.5.2"
  }
 },
 "nbformat": 4,
 "nbformat_minor": 2
}
